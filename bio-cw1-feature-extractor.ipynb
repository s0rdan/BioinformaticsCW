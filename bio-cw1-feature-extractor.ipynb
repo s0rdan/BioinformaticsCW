{
 "cells": [
  {
   "cell_type": "code",
   "execution_count": 1,
   "metadata": {
    "collapsed": true,
    "deletable": true,
    "editable": true
   },
   "outputs": [],
   "source": [
    "from Bio import SeqIO\n",
    "import numpy as np\n",
    "import matplotlib.pyplot as plt\n",
    "%matplotlib inline\n",
    "%config InlineBackend.figure_format='retina'\n",
    "from collections import Counter\n",
    "import warnings\n",
    "warnings.simplefilter(\"error\", RuntimeWarning)\n",
    "import pickle"
   ]
  },
  {
   "cell_type": "code",
   "execution_count": 24,
   "metadata": {
    "collapsed": true,
    "deletable": true,
    "editable": true
   },
   "outputs": [],
   "source": [
    "cyto=list(SeqIO.parse('cyto.fasta', 'fasta'))\n",
    "mito=list(SeqIO.parse('mito.fasta', 'fasta'))\n",
    "nucl=list(SeqIO.parse('nucleus.fasta', 'fasta'))\n",
    "secr=list(SeqIO.parse('secreted.fasta', 'fasta'))\n",
    "blind=list(SeqIO.parse('blind.fasta', 'fasta'))\n",
    "data={'cyto':cyto, 'mito':mito, 'nucl':nucl, 'secr':secr}\n",
    "mean_comp = np.load('mean_comp.npy')\n",
    "with open('alphabet.txt', 'rb') as fp: alphabet=pickle.load(fp)"
   ]
  },
  {
   "cell_type": "code",
   "execution_count": 9,
   "metadata": {
    "collapsed": true,
    "deletable": true,
    "editable": true
   },
   "outputs": [],
   "source": [
    "import PhysioDescriptors\n",
    "import CarrFeatures"
   ]
  },
  {
   "cell_type": "code",
   "execution_count": 10,
   "metadata": {
    "collapsed": true,
    "deletable": true,
    "editable": true
   },
   "outputs": [],
   "source": [
    "seq=list(str(blind[0].seq))"
   ]
  },
  {
   "cell_type": "code",
   "execution_count": 16,
   "metadata": {
    "collapsed": false,
    "deletable": true,
    "editable": true
   },
   "outputs": [],
   "source": [
    "seqs=[]\n",
    "for name in blind:\n",
    "    seqs.append(name.id)"
   ]
  },
  {
   "cell_type": "code",
   "execution_count": 11,
   "metadata": {
    "collapsed": false,
    "deletable": true,
    "editable": true
   },
   "outputs": [
    {
     "data": {
      "text/plain": [
       "(1, 336)"
      ]
     },
     "execution_count": 11,
     "metadata": {},
     "output_type": "execute_result"
    }
   ],
   "source": [
    "desc=['Hydrophobicity', 'Charge']\n",
    "desc='all'\n",
    "phyio_feats = PhysioDescriptors.get_features(seq, desc)\n",
    "phyio_feats.shape"
   ]
  },
  {
   "cell_type": "code",
   "execution_count": 56,
   "metadata": {
    "collapsed": false,
    "deletable": true,
    "editable": true
   },
   "outputs": [
    {
     "data": {
      "text/plain": [
       "(1, 80)"
      ]
     },
     "execution_count": 56,
     "metadata": {},
     "output_type": "execute_result"
    }
   ],
   "source": [
    "carr_feats = CarrFeatures.get_features(seq)\n",
    "carr_feats.shape"
   ]
  },
  {
   "cell_type": "markdown",
   "metadata": {
    "deletable": true,
    "editable": true
   },
   "source": [
    "### Pipeline"
   ]
  },
  {
   "cell_type": "code",
   "execution_count": 58,
   "metadata": {
    "collapsed": true,
    "deletable": true,
    "editable": true
   },
   "outputs": [],
   "source": [
    "cyto=list(SeqIO.parse('cyto.fasta', 'fasta'))\n",
    "mito=list(SeqIO.parse('mito.fasta', 'fasta'))\n",
    "nucl=list(SeqIO.parse('nucleus.fasta', 'fasta'))\n",
    "secr=list(SeqIO.parse('secreted.fasta', 'fasta'))\n",
    "blind=list(SeqIO.parse('blind.fasta', 'fasta'))\n",
    "data=[cyto, mito, nucl, secr]\n",
    "mean_comp = np.load('mean_comp.npy')\n",
    "with open('alphabet.txt', 'rb') as fp: alphabet=pickle.load(fp)"
   ]
  },
  {
   "cell_type": "code",
   "execution_count": 6,
   "metadata": {
    "collapsed": false,
    "deletable": true,
    "editable": true
   },
   "outputs": [],
   "source": [
    "def build_vec(data, label):\n",
    "    vec=np.zeros((len(data),80+48*7+4))\n",
    "    vec[:,-(5-label)]=1\n",
    "    for idx, item in enumerate(data):\n",
    "        seq=list(str(item.seq))\n",
    "        vec[idx,:80] = CarrFeatures.get_features(seq)\n",
    "        vec[idx, 80:-4] = PhysioDescriptors.get_features(seq, desc)\n",
    "    return vec"
   ]
  },
  {
   "cell_type": "code",
   "execution_count": 26,
   "metadata": {
    "collapsed": false,
    "deletable": true,
    "editable": true
   },
   "outputs": [],
   "source": [
    "cyto_vec=build_vec(cyto, 1)"
   ]
  },
  {
   "cell_type": "code",
   "execution_count": 61,
   "metadata": {
    "collapsed": true,
    "deletable": true,
    "editable": true
   },
   "outputs": [],
   "source": [
    "mito_vec=build_vec(mito, 2)"
   ]
  },
  {
   "cell_type": "code",
   "execution_count": 62,
   "metadata": {
    "collapsed": true,
    "deletable": true,
    "editable": true
   },
   "outputs": [],
   "source": [
    "nucl_vec=build_vec(nucl, 3)"
   ]
  },
  {
   "cell_type": "code",
   "execution_count": 63,
   "metadata": {
    "collapsed": false,
    "deletable": true,
    "editable": true
   },
   "outputs": [],
   "source": [
    "secr_vec=build_vec(secr, 4)"
   ]
  },
  {
   "cell_type": "code",
   "execution_count": 12,
   "metadata": {
    "collapsed": false,
    "deletable": true,
    "editable": true
   },
   "outputs": [],
   "source": [
    "blind_vec=build_vec(blind, 1)"
   ]
  },
  {
   "cell_type": "code",
   "execution_count": 65,
   "metadata": {
    "collapsed": false,
    "deletable": true,
    "editable": true
   },
   "outputs": [
    {
     "data": {
      "text/plain": [
       "(9242, 420)"
      ]
     },
     "execution_count": 65,
     "metadata": {},
     "output_type": "execute_result"
    }
   ],
   "source": [
    "full_vec=np.concatenate((cyto_vec, mito_vec, nucl_vec, secr_vec, blind_vec), axis=0)\n",
    "full_vec.shape"
   ]
  },
  {
   "cell_type": "code",
   "execution_count": null,
   "metadata": {
    "collapsed": true,
    "deletable": true,
    "editable": true
   },
   "outputs": [],
   "source": []
  }
 ],
 "metadata": {
  "kernelspec": {
   "display_name": "Python 3",
   "language": "python",
   "name": "python3"
  },
  "language_info": {
   "codemirror_mode": {
    "name": "ipython",
    "version": 3
   },
   "file_extension": ".py",
   "mimetype": "text/x-python",
   "name": "python",
   "nbconvert_exporter": "python",
   "pygments_lexer": "ipython3",
   "version": "3.5.2"
  }
 },
 "nbformat": 4,
 "nbformat_minor": 2
}
