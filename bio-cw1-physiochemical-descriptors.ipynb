{
 "cells": [
  {
   "cell_type": "markdown",
   "metadata": {
    "deletable": true,
    "editable": true
   },
   "source": [
    "# Physiochemical Descriptors"
   ]
  },
  {
   "cell_type": "code",
   "execution_count": 1,
   "metadata": {
    "collapsed": true,
    "deletable": true,
    "editable": true
   },
   "outputs": [],
   "source": [
    "from Bio import SeqIO\n",
    "import numpy as np\n",
    "import matplotlib.pyplot as plt\n",
    "%matplotlib inline\n",
    "%config InlineBackend.figure_format='retina'\n",
    "from collections import Counter\n",
    "import warnings\n",
    "warnings.simplefilter(\"error\", RuntimeWarning)\n",
    "import pickle"
   ]
  },
  {
   "cell_type": "markdown",
   "metadata": {
    "deletable": true,
    "editable": true
   },
   "source": [
    "<img src=\"http://i.imgur.com/BUBmDGU.png\" width=\"700\"/>"
   ]
  },
  {
   "cell_type": "code",
   "execution_count": 2,
   "metadata": {
    "collapsed": true,
    "deletable": true,
    "editable": true
   },
   "outputs": [],
   "source": [
    "PhysioProp={'Hydrophobicity':{'1':['R', 'K', 'E', 'D', 'Q', 'N'], '2':['G', 'A', 'S', 'T', 'P', 'H', 'Y'], '3':['C', 'L', 'V', 'I', 'M', 'F', 'W']},\\\n",
    "            'NormalizedVolume':{'1': ['G','A','S','T','P','D','C'], '2':['N','V','E','Q','I','L'], '3':['M','H','K','F','R','Y', 'W']},\\\n",
    "            'Polarity':{'1': ['L','I','F','W','C','M','V', 'Y'], '2':['P','A','T','G','S'], '3':['H','Q','R','K','N','E', 'D']},\\\n",
    "            'Polarizability':{'1': ['G','A', 'S','D','T'], '2':['C','P','N','V','E','Q','I','L'], '3':['K','M','H','F','R','Y', 'W']},\n",
    "            'Charge':{'1': ['K', 'R'], '2':['A','N','C','Q','G','H','I','L', 'M','F','P','S','T','W','Y','V'], '3':['D', 'E']},\\\n",
    "            'SecondaryStructure':{'1': ['E','A','L','M','Q','K','R', 'H'], '2':['V','I','Y','C','W', 'F', 'T'], '3':['G','N','P','S','D']},\\\n",
    "            'SolventAccessibility':{'1': ['A','L','F','C','G','I','V', 'W'], '2':['P','K','Q','E','N', 'D'], '3':['M','R','S','T','H', 'Y']}}"
   ]
  },
  {
   "cell_type": "code",
   "execution_count": 3,
   "metadata": {
    "collapsed": true,
    "deletable": true,
    "editable": true
   },
   "outputs": [],
   "source": [
    "cyto=list(SeqIO.parse('cyto.fasta', 'fasta'))\n",
    "mito=list(SeqIO.parse('mito.fasta', 'fasta'))\n",
    "nucl=list(SeqIO.parse('nucleus.fasta', 'fasta'))\n",
    "secr=list(SeqIO.parse('secreted.fasta', 'fasta'))\n",
    "data={'cyto':cyto, 'mito':mito, 'nucl':nucl, 'secr':secr}\n",
    "mean_comp = np.load('mean_comp.npy')\n",
    "with open('alphabet.txt', 'rb') as fp: alphabet=pickle.load(fp)"
   ]
  },
  {
   "cell_type": "code",
   "execution_count": 4,
   "metadata": {
    "collapsed": true,
    "deletable": true,
    "editable": true
   },
   "outputs": [],
   "source": [
    "seq=list(str(cyto[0].seq))\n",
    "seq_len = len(seq)\n",
    "seq_counts = Counter(seq)"
   ]
  },
  {
   "cell_type": "code",
   "execution_count": 5,
   "metadata": {
    "collapsed": false,
    "deletable": true,
    "editable": true
   },
   "outputs": [],
   "source": [
    "seq_mod = [1 if x in PhysioProp['Hydrophobicity']['1'] else x for x in seq]\n",
    "seq_mod = [2 if x in PhysioProp['Hydrophobicity']['2'] else x for x in seq_mod]\n",
    "seq_mod = [3 if x in PhysioProp['Hydrophobicity']['3'] else x for x in seq_mod]"
   ]
  },
  {
   "cell_type": "markdown",
   "metadata": {
    "deletable": true,
    "editable": true
   },
   "source": [
    "### Compositional"
   ]
  },
  {
   "cell_type": "code",
   "execution_count": 6,
   "metadata": {
    "collapsed": false,
    "deletable": true,
    "editable": true
   },
   "outputs": [],
   "source": [
    "def PD_comp(seq_mod):\n",
    "    c = Counter(seq_mod)\n",
    "    pd_comp=np.zeros((1,3))\n",
    "    pd_comp[:,0]=c[1]/seq_len\n",
    "    pd_comp[:,1]=c[2]/seq_len\n",
    "    pd_comp[:,2]=c[3]/seq_len\n",
    "    return pd_comp"
   ]
  },
  {
   "cell_type": "code",
   "execution_count": 7,
   "metadata": {
    "collapsed": false,
    "deletable": true,
    "editable": true
   },
   "outputs": [
    {
     "data": {
      "text/plain": [
       "array([[ 0.29695431,  0.45516074,  0.24788494]])"
      ]
     },
     "execution_count": 7,
     "metadata": {},
     "output_type": "execute_result"
    }
   ],
   "source": [
    "PD_comp(seq_mod)"
   ]
  },
  {
   "cell_type": "markdown",
   "metadata": {
    "deletable": true,
    "editable": true
   },
   "source": [
    "### Transitional"
   ]
  },
  {
   "cell_type": "code",
   "execution_count": 8,
   "metadata": {
    "collapsed": false,
    "deletable": true,
    "editable": true
   },
   "outputs": [],
   "source": [
    "def PD_tran(seq_mod):\n",
    "    p1=seq_mod[::2]\n",
    "    p2=seq_mod[1::2]\n",
    "    p1_=[str(i)+str(j) for (i,j) in zip(p1,p2)]\n",
    "    p2_=[str(i)+str(j) for (i,j) in zip(p2,p1)]\n",
    "    p=p1_+p2_\n",
    "    c=Counter(p)\n",
    "    pd_trans=np.zeros((1,3))\n",
    "    pd_trans[:,0]=(c['12']+c['21'])/(seq_len-1)\n",
    "    pd_trans[:,1]=(c['13']+c['31'])/(seq_len-1)\n",
    "    pd_trans[:,2]=(c['23']+c['32'])/(seq_len-1)\n",
    "    return pd_trans"
   ]
  },
  {
   "cell_type": "code",
   "execution_count": 9,
   "metadata": {
    "collapsed": false,
    "deletable": true,
    "editable": true,
    "scrolled": true
   },
   "outputs": [
    {
     "data": {
      "text/plain": [
       "array([[ 0.24216765,  0.15241321,  0.23200677]])"
      ]
     },
     "execution_count": 9,
     "metadata": {},
     "output_type": "execute_result"
    }
   ],
   "source": [
    "PD_tran(seq_mod) # does not sum up to 1 as we only consider transitions"
   ]
  },
  {
   "cell_type": "markdown",
   "metadata": {
    "deletable": true,
    "editable": true
   },
   "source": [
    "### Distributional"
   ]
  },
  {
   "cell_type": "code",
   "execution_count": 10,
   "metadata": {
    "collapsed": true,
    "deletable": true,
    "editable": true
   },
   "outputs": [],
   "source": [
    "def PD_dist(seq_mod):\n",
    "    t=[(i,j) for (i,j) in zip(range(1,seq_len+1,1), seq_mod)]\n",
    "    p1=[x[0] for x in t if x[1]==1]\n",
    "    p2=[x[0] for x in t if x[1]==2]\n",
    "    p3=[x[0] for x in t if x[1]==3]\n",
    "    p=[p1,p2,p3]\n",
    "    pd_dist=np.zeros((1,15))\n",
    "    \n",
    "    x=0\n",
    "    for i in range(3):\n",
    "        pd_dist[:,x]=p[i][0]/seq_len\n",
    "        pd_dist[:, x+1]=find_index(p[i], 0.25)/seq_len\n",
    "        pd_dist[:, x+2]=find_index(p[i], 0.50)/seq_len\n",
    "        pd_dist[:, x+3]=find_index(p[i], 0.75)/seq_len\n",
    "        pd_dist[:, x+4]=p[i][-1]/seq_len\n",
    "        x+=5\n",
    "    return pd_dist\n",
    "    \n",
    "def find_index(l, fraction):\n",
    "    llen = len(l)\n",
    "    idx=int(llen*fraction)\n",
    "    return l[idx]"
   ]
  },
  {
   "cell_type": "code",
   "execution_count": 11,
   "metadata": {
    "collapsed": false,
    "deletable": true,
    "editable": true
   },
   "outputs": [
    {
     "data": {
      "text/plain": [
       "array([[  2.53807107e-03,   2.52115059e-01,   5.18612521e-01,\n",
       "          7.40270728e-01,   1.00000000e+00,   1.69204738e-03,\n",
       "          2.47038917e-01,   5.22842640e-01,   7.58037225e-01,\n",
       "          9.95769882e-01,   8.46023689e-04,   2.57191201e-01,\n",
       "          4.34856176e-01,   7.36886633e-01,   9.98307953e-01]])"
      ]
     },
     "execution_count": 11,
     "metadata": {},
     "output_type": "execute_result"
    }
   ],
   "source": [
    "PD_dist(seq_mod)"
   ]
  },
  {
   "cell_type": "markdown",
   "metadata": {
    "deletable": true,
    "editable": true
   },
   "source": [
    "### Class Pattern Frequency"
   ]
  },
  {
   "cell_type": "code",
   "execution_count": 12,
   "metadata": {
    "collapsed": false,
    "deletable": true,
    "editable": true
   },
   "outputs": [],
   "source": [
    "combs=[str(i)+str(j)+str(k) for i in [1,2,3] for j in [1,2,3] for k in [1,2,3]]\n",
    "def PD_freq(seq_mod):\n",
    "    s=map(str, seq_mod)\n",
    "    s=''.join(s)\n",
    "    p1=[s[i:i+3] for i in range(0, len(s), 3)]\n",
    "    p2=[s[i:i+3] for i in range(1, len(s), 3)]\n",
    "    p3=[s[i:i+3] for i in range(2, len(s), 3)]\n",
    "    p=p1+p2+p3\n",
    "    c=Counter(p)\n",
    "    pd_freq=np.zeros((1,27))\n",
    "    for i in range(27):\n",
    "        pd_freq[:,i]=c[combs[i]]/(seq_len/3.)\n",
    "    return pd_freq\n",
    "    "
   ]
  },
  {
   "cell_type": "code",
   "execution_count": 13,
   "metadata": {
    "collapsed": false,
    "deletable": true,
    "editable": true
   },
   "outputs": [
    {
     "data": {
      "text/plain": [
       "array([[ 0.08629442,  0.12436548,  0.07360406,  0.12182741,  0.13705584,\n",
       "         0.09898477,  0.05076142,  0.11675127,  0.07614213,  0.11928934,\n",
       "         0.16243655,  0.12436548,  0.16243655,  0.33756345,  0.13451777,\n",
       "         0.08375635,  0.16497462,  0.07614213,  0.08121827,  0.07106599,\n",
       "         0.04568528,  0.12182741,  0.15989848,  0.09137056,  0.06345178,\n",
       "         0.08883249,  0.02030457]])"
      ]
     },
     "execution_count": 13,
     "metadata": {},
     "output_type": "execute_result"
    }
   ],
   "source": [
    "PD_freq(seq_mod) # sum to 3"
   ]
  },
  {
   "cell_type": "markdown",
   "metadata": {
    "deletable": true,
    "editable": true
   },
   "source": [
    "### Combine it all in one vector"
   ]
  },
  {
   "cell_type": "code",
   "execution_count": 14,
   "metadata": {
    "collapsed": false,
    "deletable": true,
    "editable": true
   },
   "outputs": [
    {
     "data": {
      "text/plain": [
       "dict_keys(['Charge', 'SecondaryStructure', 'NormalizedVolume', 'Hydrophobicity', 'SolventAccessibility', 'Polarizability', 'Polarity'])"
      ]
     },
     "execution_count": 14,
     "metadata": {},
     "output_type": "execute_result"
    }
   ],
   "source": [
    "PhysioProp.keys()"
   ]
  },
  {
   "cell_type": "code",
   "execution_count": 15,
   "metadata": {
    "collapsed": false,
    "deletable": true,
    "editable": true
   },
   "outputs": [
    {
     "name": "stdout",
     "output_type": "stream",
     "text": [
      "(1, 1) (1, 3) (1, 3) (1, 15) (1, 27)\n"
     ]
    }
   ],
   "source": [
    "PhysioFeats=np.empty((1,1))\n",
    "PhysioPropSelection=['Hydrophobicity']\n",
    "for key in PhysioPropSelection:\n",
    "    seq_mod = [1 if x in PhysioProp[key]['1'] else x for x in seq]\n",
    "    seq_mod = [2 if x in PhysioProp[key]['2'] else x for x in seq_mod]\n",
    "    seq_mod = [3 if x in PhysioProp[key]['3'] else x for x in seq_mod]\n",
    "    print(PhysioFeats.shape, PD_comp(seq_mod).shape, PD_tran(seq_mod).shape, PD_dist(seq_mod).shape, PD_freq(seq_mod).shape)\n",
    "    PhysioFeats=np.concatenate((PhysioFeats, PD_comp(seq_mod), PD_tran(seq_mod), PD_dist(seq_mod), PD_freq(seq_mod)), axis=1)\n",
    "PhysioFeats=PhysioFeats[:,1:]"
   ]
  },
  {
   "cell_type": "code",
   "execution_count": null,
   "metadata": {
    "collapsed": true,
    "deletable": true,
    "editable": true
   },
   "outputs": [],
   "source": []
  }
 ],
 "metadata": {
  "kernelspec": {
   "display_name": "Python 3",
   "language": "python",
   "name": "python3"
  },
  "language_info": {
   "codemirror_mode": {
    "name": "ipython",
    "version": 3
   },
   "file_extension": ".py",
   "mimetype": "text/x-python",
   "name": "python",
   "nbconvert_exporter": "python",
   "pygments_lexer": "ipython3",
   "version": "3.5.2"
  }
 },
 "nbformat": 4,
 "nbformat_minor": 2
}
