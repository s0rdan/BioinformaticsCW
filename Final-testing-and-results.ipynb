{
 "cells": [
  {
   "cell_type": "code",
   "execution_count": 1,
   "metadata": {
    "collapsed": true,
    "deletable": true,
    "editable": true
   },
   "outputs": [],
   "source": [
    "import numpy as np\n",
    "import matplotlib.pyplot as plt\n",
    "%matplotlib inline\n",
    "%config InlineBackend.figure_format='retina'\n",
    "from collections import Counter\n",
    "import pickle"
   ]
  },
  {
   "cell_type": "code",
   "execution_count": 2,
   "metadata": {
    "collapsed": false,
    "deletable": true,
    "editable": true
   },
   "outputs": [
    {
     "data": {
      "text/plain": [
       "(9222, 420)"
      ]
     },
     "execution_count": 2,
     "metadata": {},
     "output_type": "execute_result"
    }
   ],
   "source": [
    "full_vec = np.load('full_vec.npy')\n",
    "full_vec.shape"
   ]
  },
  {
   "cell_type": "code",
   "execution_count": 3,
   "metadata": {
    "collapsed": true,
    "deletable": true,
    "editable": true
   },
   "outputs": [],
   "source": [
    "from sklearn.model_selection import train_test_split\n",
    "from sklearn.decomposition import PCA\n",
    "from sklearn.pipeline import Pipeline\n",
    "from sklearn.preprocessing import StandardScaler"
   ]
  },
  {
   "cell_type": "code",
   "execution_count": 4,
   "metadata": {
    "collapsed": false,
    "deletable": true,
    "editable": true
   },
   "outputs": [
    {
     "name": "stdout",
     "output_type": "stream",
     "text": [
      "Training set is. 7377x416\n",
      "Testing set is.. 1845x416\n"
     ]
    }
   ],
   "source": [
    "trainX, testX, trainY, testY = train_test_split(full_vec[:,:-4], full_vec[:,-4:], test_size=0.2, random_state=42)\n",
    "print('{:17}{:d}x{:d}'.format('Training set is.',*trainX.shape))\n",
    "print('{:17}{:d}x{:d}'.format('Testing set is..',*testX.shape))"
   ]
  },
  {
   "cell_type": "code",
   "execution_count": 6,
   "metadata": {
    "collapsed": true,
    "deletable": true,
    "editable": true
   },
   "outputs": [],
   "source": [
    "from sklearn.svm import SVC\n",
    "#from sklearn.model_selection import GridSearchCV\n",
    "from sklearn.metrics import classification_report"
   ]
  },
  {
   "cell_type": "code",
   "execution_count": 7,
   "metadata": {
    "collapsed": false,
    "deletable": true,
    "editable": true
   },
   "outputs": [],
   "source": [
    "trainY_argmax=np.argmax(trainY, axis=1)\n",
    "\n",
    "clf = SVC(C=2.5, gamma='auto', probability=True)\n",
    "pipeline = Pipeline([('scaling', StandardScaler()), ('svc', clf)])\n",
    "fit=pipeline.fit(trainX, trainY_argmax)"
   ]
  },
  {
   "cell_type": "code",
   "execution_count": 8,
   "metadata": {
    "collapsed": true,
    "deletable": true,
    "editable": true
   },
   "outputs": [],
   "source": [
    "pred_test=pipeline.predict_proba(testX)"
   ]
  },
  {
   "cell_type": "code",
   "execution_count": 11,
   "metadata": {
    "collapsed": false,
    "deletable": true,
    "editable": true
   },
   "outputs": [
    {
     "data": {
      "text/plain": [
       "0.70243902439024386"
      ]
     },
     "execution_count": 11,
     "metadata": {},
     "output_type": "execute_result"
    }
   ],
   "source": [
    "np.sum(np.argmax(pred_test, axis=1) == np.argmax(testY, axis=1))/pred_test.shape[0] # should be at 0.702"
   ]
  },
  {
   "cell_type": "markdown",
   "metadata": {
    "deletable": true,
    "editable": true
   },
   "source": [
    "### Now onto the blind set"
   ]
  },
  {
   "cell_type": "code",
   "execution_count": 13,
   "metadata": {
    "collapsed": false,
    "deletable": true,
    "editable": true
   },
   "outputs": [],
   "source": [
    "blindX=np.load('blind_vec.npy')"
   ]
  },
  {
   "cell_type": "code",
   "execution_count": 15,
   "metadata": {
    "collapsed": false,
    "deletable": true,
    "editable": true
   },
   "outputs": [
    {
     "data": {
      "text/plain": [
       "array([3, 3, 3, 3, 3, 3, 3, 3, 3, 3, 3, 3, 3, 3, 3, 3, 3, 3, 3, 3])"
      ]
     },
     "execution_count": 15,
     "metadata": {},
     "output_type": "execute_result"
    }
   ],
   "source": [
    "pred_test=pipeline.predict_proba(blindX)\n",
    "np.argmax(pred_test, axis=1)"
   ]
  },
  {
   "cell_type": "markdown",
   "metadata": {
    "deletable": true,
    "editable": true
   },
   "source": [
    "### Regenerate features again including blind set"
   ]
  },
  {
   "cell_type": "code",
   "execution_count": 21,
   "metadata": {
    "collapsed": false,
    "deletable": true,
    "editable": true
   },
   "outputs": [],
   "source": [
    "full_vec2=np.load('full_vec2.npy')"
   ]
  },
  {
   "cell_type": "code",
   "execution_count": 34,
   "metadata": {
    "collapsed": false,
    "deletable": true,
    "editable": true
   },
   "outputs": [
    {
     "name": "stdout",
     "output_type": "stream",
     "text": [
      "Training set is. 7377x416\n",
      "Testing set is.. 1845x416\n",
      "(20, 416)\n"
     ]
    }
   ],
   "source": [
    "trainX, testX, trainY, testY = train_test_split(full_vec2[:-20,:-4], full_vec2[:-20,-4:], test_size=0.2, random_state=False)\n",
    "print('{:17}{:d}x{:d}'.format('Training set is.',*trainX.shape))\n",
    "print('{:17}{:d}x{:d}'.format('Testing set is..',*testX.shape))\n",
    "blind=full_vec[-20:,:-4]\n",
    "print(blind.shape)"
   ]
  },
  {
   "cell_type": "code",
   "execution_count": 112,
   "metadata": {
    "collapsed": false,
    "deletable": true,
    "editable": true
   },
   "outputs": [
    {
     "data": {
      "text/plain": [
       "(20, 416)"
      ]
     },
     "execution_count": 112,
     "metadata": {},
     "output_type": "execute_result"
    }
   ],
   "source": [
    "blind=np.load('blind_vec.npy')[:,:-4]\n",
    "blind.shape"
   ]
  },
  {
   "cell_type": "code",
   "execution_count": 103,
   "metadata": {
    "collapsed": false,
    "deletable": true,
    "editable": true
   },
   "outputs": [
    {
     "data": {
      "text/plain": [
       "array([2, 0, 2, 2, 2, 2, 2, 0, 2, 1, 3, 2, 3, 3, 0, 0, 0, 2, 3, 2, 2, 0, 2,\n",
       "       2, 2, 0, 0, 0, 3, 0, 1, 2, 0, 0, 1, 1, 2, 0, 3, 2, 0, 1, 2, 0, 1, 3,\n",
       "       0, 2, 3, 3, 2, 1, 1, 0, 0, 3, 0, 1, 1, 2, 0, 0, 0, 2, 0, 2, 0, 0, 2,\n",
       "       3, 3, 0, 0, 0, 3, 1, 2, 1, 3, 2, 3, 1, 0, 0, 2, 2, 2, 2, 0, 2, 0, 3,\n",
       "       3, 3, 2, 0, 0, 0, 3, 2])"
      ]
     },
     "execution_count": 103,
     "metadata": {},
     "output_type": "execute_result"
    }
   ],
   "source": [
    "np.argmax(trainY, axis=1)[:100]"
   ]
  },
  {
   "cell_type": "code",
   "execution_count": 113,
   "metadata": {
    "collapsed": false,
    "deletable": true,
    "editable": true
   },
   "outputs": [],
   "source": [
    "trainY_argmax=np.argmax(trainY, axis=1)\n",
    "\n",
    "clf = SVC(C=2.5, gamma='auto', probability=True)\n",
    "pipeline = Pipeline([('scaling', StandardScaler()), ('svc', clf)])\n",
    "fit=pipeline.fit(trainX, trainY_argmax)"
   ]
  },
  {
   "cell_type": "code",
   "execution_count": 114,
   "metadata": {
    "collapsed": false,
    "deletable": true,
    "editable": true
   },
   "outputs": [],
   "source": [
    "pred_test=pipeline.predict(np.concatenate((testX, blind), axis=0))"
   ]
  },
  {
   "cell_type": "code",
   "execution_count": 119,
   "metadata": {
    "collapsed": false,
    "deletable": true,
    "editable": true
   },
   "outputs": [
    {
     "data": {
      "text/plain": [
       "array([0, 2, 2, 0, 1, 3, 1, 1, 2, 3, 2, 2, 2, 3, 2, 0, 1, 0, 3, 3])"
      ]
     },
     "execution_count": 119,
     "metadata": {},
     "output_type": "execute_result"
    }
   ],
   "source": [
    "pred_test[:20]"
   ]
  },
  {
   "cell_type": "code",
   "execution_count": 106,
   "metadata": {
    "collapsed": false,
    "deletable": true,
    "editable": true
   },
   "outputs": [
    {
     "data": {
      "text/plain": [
       "0.71165311653116536"
      ]
     },
     "execution_count": 106,
     "metadata": {},
     "output_type": "execute_result"
    }
   ],
   "source": [
    "np.sum(pred_test == np.argmax(testY, axis=1))/pred_test.shape[0]"
   ]
  },
  {
   "cell_type": "code",
   "execution_count": 107,
   "metadata": {
    "collapsed": false,
    "deletable": true,
    "editable": true
   },
   "outputs": [],
   "source": [
    "proba=pipeline.predict_proba(blind)\n",
    "idx=np.argmax(proba, axis=1)"
   ]
  },
  {
   "cell_type": "code",
   "execution_count": 108,
   "metadata": {
    "collapsed": false,
    "deletable": true,
    "editable": true
   },
   "outputs": [
    {
     "data": {
      "text/plain": [
       "array([3, 3, 3, 3, 3, 3, 3, 3, 3, 3, 3, 3, 3, 3, 3, 3, 3, 3, 3, 3])"
      ]
     },
     "execution_count": 108,
     "metadata": {},
     "output_type": "execute_result"
    }
   ],
   "source": [
    "idx"
   ]
  },
  {
   "cell_type": "code",
   "execution_count": 99,
   "metadata": {
    "collapsed": false,
    "deletable": true,
    "editable": true
   },
   "outputs": [
    {
     "name": "stdout",
     "output_type": "stream",
     "text": [
      "SEQ677 Secreted Confidence 0.8208\n",
      "SEQ231 Secreted Confidence 0.8265\n",
      "SEQ871 Secreted Confidence 0.8244\n",
      "SEQ388 Secreted Confidence 0.8273\n",
      "SEQ122 Secreted Confidence 0.8272\n",
      "SEQ758 Secreted Confidence 0.8024\n",
      "SEQ333 Secreted Confidence 0.8238\n",
      "SEQ937 Secreted Confidence 0.8207\n",
      "SEQ351 Secreted Confidence 0.8241\n",
      "SEQ202 Secreted Confidence 0.8271\n",
      "SEQ608 Secreted Confidence 0.8236\n",
      "SEQ402 Secreted Confidence 0.7859\n",
      "SEQ433 Secreted Confidence 0.8285\n",
      "SEQ821 Secreted Confidence 0.8249\n",
      "SEQ322 Secreted Confidence 0.8186\n",
      "SEQ982 Secreted Confidence 0.8192\n",
      "SEQ951 Secreted Confidence 0.8219\n",
      "SEQ173 Secreted Confidence 0.7865\n",
      "SEQ862 Secreted Confidence 0.8258\n",
      "SEQ224 Secreted Confidence 0.8276\n"
     ]
    }
   ],
   "source": [
    "c=0\n",
    "for i in proba:\n",
    "    print('%s Secreted Confidence %.4f'%(seqs[c], i[-1]))\n",
    "    c+=1"
   ]
  },
  {
   "cell_type": "code",
   "execution_count": 88,
   "metadata": {
    "collapsed": true,
    "deletable": true,
    "editable": true
   },
   "outputs": [],
   "source": [
    "seqs=['SEQ677',\n",
    " 'SEQ231',\n",
    " 'SEQ871',\n",
    " 'SEQ388',\n",
    " 'SEQ122',\n",
    " 'SEQ758',\n",
    " 'SEQ333',\n",
    " 'SEQ937',\n",
    " 'SEQ351',\n",
    " 'SEQ202',\n",
    " 'SEQ608',\n",
    " 'SEQ402',\n",
    " 'SEQ433',\n",
    " 'SEQ821',\n",
    " 'SEQ322',\n",
    " 'SEQ982',\n",
    " 'SEQ951',\n",
    " 'SEQ173',\n",
    " 'SEQ862',\n",
    " 'SEQ224']"
   ]
  },
  {
   "cell_type": "code",
   "execution_count": 135,
   "metadata": {
    "collapsed": false,
    "deletable": true,
    "editable": true
   },
   "outputs": [
    {
     "data": {
      "text/plain": [
       "[<matplotlib.lines.Line2D at 0x7fc24889a550>]"
      ]
     },
     "execution_count": 135,
     "metadata": {},
     "output_type": "execute_result"
    },
    {
     "data": {
      "image/png": "[encoded data removed]",
      "text/plain": [
       "<matplotlib.figure.Figure at 0x7fc24889a588>"
      ]
     },
     "metadata": {
      "image/png": {
       "height": 250,
       "width": 372
      }
     },
     "output_type": "display_data"
    }
   ],
   "source": [
    "plt.plot(blind[10,:])\n",
    "plt.plot(full_vec[13,:], alpha=1)"
   ]
  },
  {
   "cell_type": "code",
   "execution_count": null,
   "metadata": {
    "collapsed": true
   },
   "outputs": [],
   "source": []
  }
 ],
 "metadata": {
  "kernelspec": {
   "display_name": "Python 3",
   "language": "python",
   "name": "python3"
  },
  "language_info": {
   "codemirror_mode": {
    "name": "ipython",
    "version": 3
   },
   "file_extension": ".py",
   "mimetype": "text/x-python",
   "name": "python",
   "nbconvert_exporter": "python",
   "pygments_lexer": "ipython3",
   "version": "3.5.2"
  }
 },
 "nbformat": 4,
 "nbformat_minor": 2
}
