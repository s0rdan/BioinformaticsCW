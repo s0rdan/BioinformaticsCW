{
 "cells": [
  {
   "cell_type": "code",
   "execution_count": 1,
   "metadata": {
    "collapsed": false,
    "deletable": true,
    "editable": true
   },
   "outputs": [],
   "source": [
    "from Bio import SeqIO\n",
    "import numpy as np\n",
    "import matplotlib.pyplot as plt\n",
    "%matplotlib inline\n",
    "%config InlineBackend.figure_format='retina'\n",
    "from collections import Counter\n",
    "import warnings\n",
    "warnings.simplefilter(\"error\", RuntimeWarning)\n",
    "import pickle"
   ]
  },
  {
   "cell_type": "code",
   "execution_count": 2,
   "metadata": {
    "collapsed": false,
    "deletable": true,
    "editable": true
   },
   "outputs": [],
   "source": [
    "cyto=list(SeqIO.parse('cyto.fasta', 'fasta'))\n",
    "mito=list(SeqIO.parse('mito.fasta', 'fasta'))\n",
    "nucl=list(SeqIO.parse('nucleus.fasta', 'fasta'))\n",
    "secr=list(SeqIO.parse('secreted.fasta', 'fasta'))\n",
    "data={'cyto':cyto, 'mito':mito, 'nucl':nucl, 'secr':secr}\n",
    "mean_comp = np.load('mean_comp.npy')\n",
    "with open('alphabet.txt', 'rb') as fp: alphabet=pickle.load(fp)"
   ]
  },
  {
   "cell_type": "code",
   "execution_count": 3,
   "metadata": {
    "collapsed": false,
    "deletable": true,
    "editable": true
   },
   "outputs": [],
   "source": [
    "seq=list(str(cyto[0].seq))\n",
    "seq_len = len(seq)\n",
    "seq_counts = Counter(seq)"
   ]
  },
  {
   "cell_type": "code",
   "execution_count": 4,
   "metadata": {
    "collapsed": false,
    "deletable": true,
    "editable": true
   },
   "outputs": [],
   "source": [
    "def counts(seq):\n",
    "    c=Counter(seq)\n",
    "    cnts=np.zeros((1,20))\n",
    "    for idx, letter in enumerate(alphabet):\n",
    "        cnts[:,idx]=c[letter]\n",
    "    return cnts\n",
    "\n",
    "def carr_type1(seq):\n",
    "    seq_counts = Counter(seq)\n",
    "    feats=np.zeros((1,20))\n",
    "    var=mean_comp*(1-mean_comp)/seq_len\n",
    "    for idx, letter in enumerate(alphabet):\n",
    "        feats[:,idx]=seq_counts[letter]/seq_len\n",
    "    feats = (feats - mean_comp) / (var**0.5)\n",
    "    return feats\n",
    "\n",
    "def carr_type2(seq):\n",
    "    theo_mean=(seq_len+1)/2.\n",
    "    theo_var=(seq_len+1)*(seq_len-seq_counts)/(12*seq_counts)\n",
    "    return (cent_pos_mean-theo_mean)/(theo_var**0.5)\n",
    "\n",
    "def carr_type3(seq):\n",
    "    pos_vector=np.arange(1,len(seq)+1,1)\n",
    "    distributional=np.zeros((1,20))\n",
    "    \n",
    "    for idx, letter in enumerate(alphabet):\n",
    "        pos = [pos_vector[idx] for idx, aa in enumerate(seq) if aa == letter]\n",
    "        if pos:\n",
    "            pos=np.asarray(pos, dtype=np.float32)\n",
    "            distributional[:,idx]=np.sum((pos-cent_pos_mean[:,idx])**2)\n",
    "            \n",
    "    measure_factor=(seq_len+1)/(seq_len*(seq_counts-1))\n",
    "    measure=measure_factor*distributional\n",
    "    theo_mean=(seq_len**2-1)/12.\n",
    "    theo_var=(seq_len-seq_counts)*((seq_len-1)**2)*(seq_len+1)*(2*seq_counts*seq_len+3*seq_len+3*seq_counts+3)/(360*seq_counts*(seq_counts-1)*seq_len)\n",
    "    return (measure-theo_mean)/(theo_var**0.5)\n",
    "    \n",
    "def cent_mean(seq):\n",
    "    pos_vector=np.arange(1,len(seq)+1,1)\n",
    "    centroidal_position=np.zeros((1,20))\n",
    "    for idx, letter in enumerate(alphabet):\n",
    "        pos = [pos_vector[idx] for idx, aa in enumerate(seq) if aa == letter]\n",
    "        try:\n",
    "            centroidal_position[:,idx] = np.mean(pos)\n",
    "        except:\n",
    "            centroidal_position[:,idx] = 0\n",
    "    return centroidal_position"
   ]
  },
  {
   "cell_type": "code",
   "execution_count": 5,
   "metadata": {
    "collapsed": false,
    "deletable": true,
    "editable": true
   },
   "outputs": [],
   "source": [
    "seq_counts=counts(seq)\n",
    "cent_pos_mean=cent_mean(seq)\n",
    "seq_len=len(seq)\n",
    "feats1=carr_type1(seq)\n",
    "feats2=carr_type2(seq)\n",
    "feats3=carr_type3(seq)"
   ]
  },
  {
   "cell_type": "code",
   "execution_count": 6,
   "metadata": {
    "collapsed": false,
    "deletable": true,
    "editable": true
   },
   "outputs": [
    {
     "data": {
      "text/plain": [
       "array([[ 1.76606765, -2.12282106, -1.32271513,  0.41134867, -1.51117938,\n",
       "         2.27085027, -0.23765531, -3.80841125, -1.00634121, -0.85821426,\n",
       "        -0.89069634, -1.91622611,  4.10326743, -0.91257724, -0.20460399,\n",
       "         2.32926458,  1.29343341,  0.79765619, -0.24170778, -0.4883382 ]])"
      ]
     },
     "execution_count": 6,
     "metadata": {},
     "output_type": "execute_result"
    }
   ],
   "source": [
    "feats1"
   ]
  },
  {
   "cell_type": "code",
   "execution_count": 7,
   "metadata": {
    "collapsed": false,
    "deletable": true,
    "editable": true
   },
   "outputs": [
    {
     "data": {
      "text/plain": [
       "array([[ 1.17056749,  0.56287188,  0.11427425, -1.06421718, -1.70480355,\n",
       "        -0.95542086, -1.62896093, -0.39711415,  1.45675871,  0.49106089,\n",
       "        -0.3164912 , -0.55134198,  3.2318366 ,  1.240002  , -0.85291514,\n",
       "         0.38884143,  0.51804057, -0.33647561, -1.98570598, -3.14485889]])"
      ]
     },
     "execution_count": 7,
     "metadata": {},
     "output_type": "execute_result"
    }
   ],
   "source": [
    "feats2"
   ]
  },
  {
   "cell_type": "code",
   "execution_count": 8,
   "metadata": {
    "collapsed": false,
    "deletable": true,
    "editable": true
   },
   "outputs": [
    {
     "data": {
      "text/plain": [
       "array([[-0.13080281,  0.39202966,  0.27349589, -0.49944096, -1.52704365,\n",
       "         0.79588087,  0.07612193,  0.75161157, -1.58916108, -0.05440881,\n",
       "        -1.69016675,  0.96460931, -0.90838914,  2.43986651,  0.18311363,\n",
       "        -0.12018133, -0.51858465,  1.9594124 , -1.78884142, -3.08487058]])"
      ]
     },
     "execution_count": 8,
     "metadata": {},
     "output_type": "execute_result"
    }
   ],
   "source": [
    "feats3"
   ]
  },
  {
   "cell_type": "code",
   "execution_count": null,
   "metadata": {
    "collapsed": true,
    "deletable": true,
    "editable": true
   },
   "outputs": [],
   "source": []
  }
 ],
 "metadata": {
  "kernelspec": {
   "display_name": "IPython (Python 3)",
   "language": "python",
   "name": "python3"
  },
  "language_info": {
   "codemirror_mode": {
    "name": "ipython",
    "version": 3
   },
   "file_extension": ".py",
   "mimetype": "text/x-python",
   "name": "python",
   "nbconvert_exporter": "python",
   "pygments_lexer": "ipython3",
   "version": "3.4.3"
  }
 },
 "nbformat": 4,
 "nbformat_minor": 2
}
